{
 "cells": [
  {
   "cell_type": "markdown",
   "metadata": {},
   "source": [
    "# Introducing pyETT: Python API client for Eleven VR Table Tennis data"
   ]
  },
  {
   "cell_type": "markdown",
   "metadata": {},
   "source": [
    "pyETT: Python API client for Eleven VR Table Tennis data"
   ]
  },
  {
   "cell_type": "code",
   "execution_count": 4,
   "metadata": {},
   "outputs": [],
   "source": [
    "import pyETT as ett"
   ]
  },
  {
   "cell_type": "markdown",
   "metadata": {},
   "source": [
    "# Player and user search"
   ]
  },
  {
   "cell_type": "markdown",
   "metadata": {},
   "source": [
    "Returns a list of players whose name contains username, if perfect_match is False. Otherwise, it returns a list of players whose usernames is a perfect match with username."
   ]
  },
  {
   "cell_type": "code",
   "execution_count": 7,
   "metadata": {},
   "outputs": [
    {
     "data": {
      "text/html": [
       "<div>\n",
       "<style scoped>\n",
       "    .dataframe tbody tr th:only-of-type {\n",
       "        vertical-align: middle;\n",
       "    }\n",
       "\n",
       "    .dataframe tbody tr th {\n",
       "        vertical-align: top;\n",
       "    }\n",
       "\n",
       "    .dataframe thead th {\n",
       "        text-align: right;\n",
       "    }\n",
       "</style>\n",
       "<table border=\"1\" class=\"dataframe\">\n",
       "  <thead>\n",
       "    <tr style=\"text-align: right;\">\n",
       "      <th></th>\n",
       "      <th>id</th>\n",
       "      <th>name</th>\n",
       "      <th>elo</th>\n",
       "      <th>rank</th>\n",
       "      <th>wins</th>\n",
       "      <th>losses</th>\n",
       "      <th>last_online</th>\n",
       "    </tr>\n",
       "  </thead>\n",
       "  <tbody>\n",
       "    <tr>\n",
       "      <th>0</th>\n",
       "      <td>348353</td>\n",
       "      <td>highlanderNJ</td>\n",
       "      <td>1980.5</td>\n",
       "      <td>2275</td>\n",
       "      <td>457</td>\n",
       "      <td>364</td>\n",
       "      <td>2021-06-16T04:53:35.447Z</td>\n",
       "    </tr>\n",
       "  </tbody>\n",
       "</table>\n",
       "</div>"
      ],
      "text/plain": [
       "       id          name     elo  rank  wins  losses               last_online\n",
       "0  348353  highlanderNJ  1980.5  2275   457     364  2021-06-16T04:53:35.447Z"
      ]
     },
     "execution_count": 7,
     "metadata": {},
     "output_type": "execute_result"
    }
   ],
   "source": [
    "ett.user_search_dataframe('HighlanderNJ')"
   ]
  },
  {
   "cell_type": "code",
   "execution_count": 8,
   "metadata": {},
   "outputs": [
    {
     "name": "stdout",
     "output_type": "stream",
     "text": [
      "highlanderNJ\n"
     ]
    }
   ],
   "source": [
    "print(p:=ett.Player(348353))"
   ]
  },
  {
   "cell_type": "code",
   "execution_count": 11,
   "metadata": {},
   "outputs": [
    {
     "name": "stdout",
     "output_type": "stream",
     "text": [
      "username:highlanderNJ\n",
      " elo:1980.5\n",
      " elo:2275\n",
      " wins:457\n",
      " losses:364\n",
      "\n"
     ]
    }
   ],
   "source": [
    "print(f\"username:{p.name}\\n elo:{p.elo}\\n elo:{p.rank}\\n wins:{p.wins}\\n losses:{p.losses}\\n\")"
   ]
  },
  {
   "cell_type": "markdown",
   "metadata": {},
   "source": [
    "# Matches and rounds"
   ]
  },
  {
   "cell_type": "code",
   "execution_count": 19,
   "metadata": {},
   "outputs": [
    {
     "data": {
      "text/html": [
       "<div>\n",
       "<style scoped>\n",
       "    .dataframe tbody tr th:only-of-type {\n",
       "        vertical-align: middle;\n",
       "    }\n",
       "\n",
       "    .dataframe tbody tr th {\n",
       "        vertical-align: top;\n",
       "    }\n",
       "\n",
       "    .dataframe thead th {\n",
       "        text-align: right;\n",
       "    }\n",
       "</style>\n",
       "<table border=\"1\" class=\"dataframe\">\n",
       "  <thead>\n",
       "    <tr style=\"text-align: right;\">\n",
       "      <th></th>\n",
       "      <th>created_at</th>\n",
       "      <th>id</th>\n",
       "      <th>ranked</th>\n",
       "      <th>number_of_rounds</th>\n",
       "      <th>state</th>\n",
       "      <th>winning_team</th>\n",
       "      <th>losing_team</th>\n",
       "      <th>home_score</th>\n",
       "      <th>away_score</th>\n",
       "      <th>home_player</th>\n",
       "      <th>away_player</th>\n",
       "      <th>rounds</th>\n",
       "    </tr>\n",
       "  </thead>\n",
       "  <tbody>\n",
       "    <tr>\n",
       "      <th>0</th>\n",
       "      <td>2021-06-14T21:33:02.826Z</td>\n",
       "      <td>9334404</td>\n",
       "      <td>True</td>\n",
       "      <td>3</td>\n",
       "      <td>1</td>\n",
       "      <td>1</td>\n",
       "      <td>0</td>\n",
       "      <td>0</td>\n",
       "      <td>2</td>\n",
       "      <td>pete_ed5</td>\n",
       "      <td>highlanderNJ</td>\n",
       "      <td>[&lt;pyETT.Match.Round object at 0x7fc901d45e50&gt;,...</td>\n",
       "    </tr>\n",
       "    <tr>\n",
       "      <th>1</th>\n",
       "      <td>2021-06-14T21:29:40.751Z</td>\n",
       "      <td>9334315</td>\n",
       "      <td>True</td>\n",
       "      <td>3</td>\n",
       "      <td>1</td>\n",
       "      <td>1</td>\n",
       "      <td>0</td>\n",
       "      <td>0</td>\n",
       "      <td>2</td>\n",
       "      <td>pete_ed5</td>\n",
       "      <td>highlanderNJ</td>\n",
       "      <td>[&lt;pyETT.Match.Round object at 0x7fc901d45340&gt;,...</td>\n",
       "    </tr>\n",
       "    <tr>\n",
       "      <th>2</th>\n",
       "      <td>2021-06-14T21:26:32.527Z</td>\n",
       "      <td>9334230</td>\n",
       "      <td>True</td>\n",
       "      <td>3</td>\n",
       "      <td>1</td>\n",
       "      <td>0</td>\n",
       "      <td>1</td>\n",
       "      <td>2</td>\n",
       "      <td>0</td>\n",
       "      <td>pete_ed5</td>\n",
       "      <td>highlanderNJ</td>\n",
       "      <td>[&lt;pyETT.Match.Round object at 0x7fc901d45fd0&gt;,...</td>\n",
       "    </tr>\n",
       "    <tr>\n",
       "      <th>3</th>\n",
       "      <td>2021-06-14T16:15:47.297Z</td>\n",
       "      <td>9326236</td>\n",
       "      <td>True</td>\n",
       "      <td>3</td>\n",
       "      <td>1</td>\n",
       "      <td>0</td>\n",
       "      <td>1</td>\n",
       "      <td>2</td>\n",
       "      <td>1</td>\n",
       "      <td>highlanderNJ</td>\n",
       "      <td>FatCatPat69</td>\n",
       "      <td>[&lt;pyETT.Match.Round object at 0x7fc901d45850&gt;,...</td>\n",
       "    </tr>\n",
       "    <tr>\n",
       "      <th>4</th>\n",
       "      <td>2021-06-14T15:50:48.549Z</td>\n",
       "      <td>9325651</td>\n",
       "      <td>True</td>\n",
       "      <td>3</td>\n",
       "      <td>1</td>\n",
       "      <td>1</td>\n",
       "      <td>0</td>\n",
       "      <td>0</td>\n",
       "      <td>2</td>\n",
       "      <td>ThePongFather</td>\n",
       "      <td>highlanderNJ</td>\n",
       "      <td>[&lt;pyETT.Match.Round object at 0x7fc901d455b0&gt;,...</td>\n",
       "    </tr>\n",
       "  </tbody>\n",
       "</table>\n",
       "</div>"
      ],
      "text/plain": [
       "                 created_at       id  ranked  number_of_rounds  state  \\\n",
       "0  2021-06-14T21:33:02.826Z  9334404    True                 3      1   \n",
       "1  2021-06-14T21:29:40.751Z  9334315    True                 3      1   \n",
       "2  2021-06-14T21:26:32.527Z  9334230    True                 3      1   \n",
       "3  2021-06-14T16:15:47.297Z  9326236    True                 3      1   \n",
       "4  2021-06-14T15:50:48.549Z  9325651    True                 3      1   \n",
       "\n",
       "   winning_team  losing_team  home_score  away_score    home_player  \\\n",
       "0             1            0           0           2       pete_ed5   \n",
       "1             1            0           0           2       pete_ed5   \n",
       "2             0            1           2           0       pete_ed5   \n",
       "3             0            1           2           1   highlanderNJ   \n",
       "4             1            0           0           2  ThePongFather   \n",
       "\n",
       "    away_player                                             rounds  \n",
       "0  highlanderNJ  [<pyETT.Match.Round object at 0x7fc901d45e50>,...  \n",
       "1  highlanderNJ  [<pyETT.Match.Round object at 0x7fc901d45340>,...  \n",
       "2  highlanderNJ  [<pyETT.Match.Round object at 0x7fc901d45fd0>,...  \n",
       "3   FatCatPat69  [<pyETT.Match.Round object at 0x7fc901d45850>,...  \n",
       "4  highlanderNJ  [<pyETT.Match.Round object at 0x7fc901d455b0>,...  "
      ]
     },
     "execution_count": 19,
     "metadata": {},
     "output_type": "execute_result"
    }
   ],
   "source": [
    "m = p.get_matches_dataframe().head()\n",
    "m"
   ]
  },
  {
   "cell_type": "code",
   "execution_count": 20,
   "metadata": {},
   "outputs": [
    {
     "data": {
      "text/html": [
       "<div>\n",
       "<style scoped>\n",
       "    .dataframe tbody tr th:only-of-type {\n",
       "        vertical-align: middle;\n",
       "    }\n",
       "\n",
       "    .dataframe tbody tr th {\n",
       "        vertical-align: top;\n",
       "    }\n",
       "\n",
       "    .dataframe thead th {\n",
       "        text-align: right;\n",
       "    }\n",
       "</style>\n",
       "<table border=\"1\" class=\"dataframe\">\n",
       "  <thead>\n",
       "    <tr style=\"text-align: right;\">\n",
       "      <th></th>\n",
       "      <th>id</th>\n",
       "      <th>round_number</th>\n",
       "      <th>state</th>\n",
       "      <th>away_score</th>\n",
       "      <th>home_score</th>\n",
       "      <th>winner</th>\n",
       "      <th>created_at</th>\n",
       "    </tr>\n",
       "  </thead>\n",
       "  <tbody>\n",
       "    <tr>\n",
       "      <th>0</th>\n",
       "      <td>20931563</td>\n",
       "      <td>0</td>\n",
       "      <td>0</td>\n",
       "      <td>11</td>\n",
       "      <td>8</td>\n",
       "      <td>1</td>\n",
       "      <td>2021-06-14T21:35:29.753Z</td>\n",
       "    </tr>\n",
       "    <tr>\n",
       "      <th>1</th>\n",
       "      <td>20931405</td>\n",
       "      <td>0</td>\n",
       "      <td>0</td>\n",
       "      <td>11</td>\n",
       "      <td>8</td>\n",
       "      <td>1</td>\n",
       "      <td>2021-06-14T21:33:02.826Z</td>\n",
       "    </tr>\n",
       "  </tbody>\n",
       "</table>\n",
       "</div>"
      ],
      "text/plain": [
       "         id  round_number  state  away_score  home_score  winner  \\\n",
       "0  20931563             0      0          11           8       1   \n",
       "1  20931405             0      0          11           8       1   \n",
       "\n",
       "                 created_at  \n",
       "0  2021-06-14T21:35:29.753Z  \n",
       "1  2021-06-14T21:33:02.826Z  "
      ]
     },
     "execution_count": 20,
     "metadata": {},
     "output_type": "execute_result"
    }
   ],
   "source": [
    "ett.Match.get_rounds_dataframe(m.rounds[0])"
   ]
  },
  {
   "cell_type": "markdown",
   "metadata": {},
   "source": [
    "# Friends list, leaderboard and elo history"
   ]
  },
  {
   "cell_type": "code",
   "execution_count": null,
   "metadata": {},
   "outputs": [],
   "source": [
    "p.get_friends()[0].get_elo_history().plot()"
   ]
  },
  {
   "cell_type": "code",
   "execution_count": 21,
   "metadata": {},
   "outputs": [
    {
     "data": {
      "text/plain": [
       "<matplotlib.axes._subplots.AxesSubplot at 0x7fc900583be0>"
      ]
     },
     "execution_count": 21,
     "metadata": {},
     "output_type": "execute_result"
    },
    {
     "data": {
      "image/png": "[encoded data removed]",
      "text/plain": [
       "<Figure size 432x288 with 1 Axes>"
      ]
     },
     "metadata": {
      "needs_background": "light"
     },
     "output_type": "display_data"
    }
   ],
   "source": [
    "p.get_elo_history().plot()"
   ]
  },
  {
   "cell_type": "markdown",
   "metadata": {},
   "source": [
    "# Conclusion\n",
    "\n",
    "\n",
    "Documentation for pyETT is located at https://pyett.readthedocs.io/en/latest/index.html.\n",
    "\n",
    "Github https://github.com/souzatharsis/pyETT\n",
    "\n",
    "\n",
    "Retrieve full user-matches history (parametrized)\n",
    "Retrieve full leaderboard (parametrized)\n",
    "Retrieve ranked and/or unranked matches (parametrized)\n",
    "\n",
    "next frontier: analytics"
   ]
  },
  {
   "cell_type": "code",
   "execution_count": null,
   "metadata": {},
   "outputs": [],
   "source": []
  }
 ],
 "metadata": {
  "kernelspec": {
   "display_name": "Python 3",
   "language": "python",
   "name": "python3"
  },
  "language_info": {
   "codemirror_mode": {
    "name": "ipython",
    "version": 3
   },
   "file_extension": ".py",
   "mimetype": "text/x-python",
   "name": "python",
   "nbconvert_exporter": "python",
   "pygments_lexer": "ipython3",
   "version": "3.8.5"
  }
 },
 "nbformat": 4,
 "nbformat_minor": 4
}
