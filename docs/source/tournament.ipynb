{
 "cells": [
  {
   "cell_type": "markdown",
   "metadata": {},
   "source": [
    "# Official Tournament"
   ]
  },
  {
   "cell_type": "code",
   "execution_count": 1,
   "metadata": {},
   "outputs": [],
   "source": [
    "from pyETT import ett"
   ]
  },
  {
   "cell_type": "markdown",
   "metadata": {},
   "source": [
    "Eleven has been running monthly official tournaments since April/2021. The tournaments draw interest from top players as well as upcoming ones who are looking to become more competitive. After each tournament, each player may gain rankings points and at the end of the year the top ranked players will compete on an year-end tournament to determine who's the best player of the year. We can obtain the current standinds of the rankings points as follows: "
   ]
  },
  {
   "cell_type": "code",
   "execution_count": 4,
   "metadata": {},
   "outputs": [
    {
     "data": {
      "text/html": "<div>\n<style scoped>\n    .dataframe tbody tr th:only-of-type {\n        vertical-align: middle;\n    }\n\n    .dataframe tbody tr th {\n        vertical-align: top;\n    }\n\n    .dataframe thead th {\n        text-align: right;\n    }\n</style>\n<table border=\"1\" class=\"dataframe\">\n  <thead>\n    <tr style=\"text-align: right;\">\n      <th></th>\n      <th>Ranking</th>\n      <th>Player</th>\n      <th>April</th>\n      <th>May</th>\n      <th>June</th>\n      <th>July</th>\n      <th>Aug</th>\n      <th>Total</th>\n    </tr>\n  </thead>\n  <tbody>\n    <tr>\n      <th>0</th>\n      <td>1</td>\n      <td>Aiphaton</td>\n      <td>175.0</td>\n      <td>40.0</td>\n      <td>90.0</td>\n      <td>NaN</td>\n      <td>NaN</td>\n      <td>305</td>\n    </tr>\n    <tr>\n      <th>1</th>\n      <td>2</td>\n      <td>lapoctopus90</td>\n      <td>NaN</td>\n      <td>90.0</td>\n      <td>125.0</td>\n      <td>NaN</td>\n      <td>NaN</td>\n      <td>215</td>\n    </tr>\n    <tr>\n      <th>2</th>\n      <td>3</td>\n      <td>ProTTVR</td>\n      <td>125.0</td>\n      <td>60.0</td>\n      <td>15.0</td>\n      <td>NaN</td>\n      <td>NaN</td>\n      <td>200</td>\n    </tr>\n    <tr>\n      <th>3</th>\n      <td>4</td>\n      <td>yedat</td>\n      <td>15.0</td>\n      <td>125.0</td>\n      <td>NaN</td>\n      <td>NaN</td>\n      <td>NaN</td>\n      <td>140</td>\n    </tr>\n    <tr>\n      <th>4</th>\n      <td>5</td>\n      <td>porter</td>\n      <td>40.0</td>\n      <td>15.0</td>\n      <td>60.0</td>\n      <td>NaN</td>\n      <td>NaN</td>\n      <td>115</td>\n    </tr>\n    <tr>\n      <th>5</th>\n      <td>6</td>\n      <td>ALIASREK</td>\n      <td>90.0</td>\n      <td>NaN</td>\n      <td>10.0</td>\n      <td>NaN</td>\n      <td>NaN</td>\n      <td>100</td>\n    </tr>\n    <tr>\n      <th>6</th>\n      <td>7</td>\n      <td>twISTer1979</td>\n      <td>25.0</td>\n      <td>25.0</td>\n      <td>40.0</td>\n      <td>NaN</td>\n      <td>NaN</td>\n      <td>90</td>\n    </tr>\n    <tr>\n      <th>7</th>\n      <td>8</td>\n      <td>PixelFire</td>\n      <td>60.0</td>\n      <td>10.0</td>\n      <td>15.0</td>\n      <td>NaN</td>\n      <td>NaN</td>\n      <td>85</td>\n    </tr>\n    <tr>\n      <th>8</th>\n      <td>9</td>\n      <td>l4mbo</td>\n      <td>40.0</td>\n      <td>15.0</td>\n      <td>10.0</td>\n      <td>NaN</td>\n      <td>NaN</td>\n      <td>65</td>\n    </tr>\n    <tr>\n      <th>9</th>\n      <td>9</td>\n      <td>fmwallin</td>\n      <td>25.0</td>\n      <td>25.0</td>\n      <td>15.0</td>\n      <td>NaN</td>\n      <td>NaN</td>\n      <td>65</td>\n    </tr>\n  </tbody>\n</table>\n</div>",
      "text/plain": "   Ranking        Player  April    May   June  July  Aug  Total\n0        1      Aiphaton  175.0   40.0   90.0   NaN  NaN    305\n1        2  lapoctopus90    NaN   90.0  125.0   NaN  NaN    215\n2        3       ProTTVR  125.0   60.0   15.0   NaN  NaN    200\n3        4         yedat   15.0  125.0    NaN   NaN  NaN    140\n4        5        porter   40.0   15.0   60.0   NaN  NaN    115\n5        6      ALIASREK   90.0    NaN   10.0   NaN  NaN    100\n6        7   twISTer1979   25.0   25.0   40.0   NaN  NaN     90\n7        8     PixelFire   60.0   10.0   15.0   NaN  NaN     85\n8        9         l4mbo   40.0   15.0   10.0   NaN  NaN     65\n9        9      fmwallin   25.0   25.0   15.0   NaN  NaN     65"
     },
     "execution_count": 4,
     "metadata": {},
     "output_type": "execute_result"
    }
   ],
   "source": [
    "ett.official_tournament_leaderboard_dataframe().head(10)"
   ]
  },
  {
   "cell_type": "markdown",
   "metadata": {},
   "source": [
    "Not surprisingly, the highest ranked players are at the top of ETT's leaderboard:"
   ]
  },
  {
   "cell_type": "code",
   "execution_count": 3,
   "metadata": {},
   "outputs": [
    {
     "data": {
      "text/html": "<div>\n<style scoped>\n    .dataframe tbody tr th:only-of-type {\n        vertical-align: middle;\n    }\n\n    .dataframe tbody tr th {\n        vertical-align: top;\n    }\n\n    .dataframe thead th {\n        text-align: right;\n    }\n</style>\n<table border=\"1\" class=\"dataframe\">\n  <thead>\n    <tr style=\"text-align: right;\">\n      <th></th>\n      <th>id</th>\n      <th>name</th>\n      <th>elo</th>\n      <th>rank</th>\n      <th>wins</th>\n      <th>losses</th>\n      <th>last_online</th>\n    </tr>\n  </thead>\n  <tbody>\n    <tr>\n      <th>0</th>\n      <td>385684</td>\n      <td>yedat</td>\n      <td>3135.2</td>\n      <td>0</td>\n      <td>1001</td>\n      <td>275</td>\n      <td>2021-07-08T21:55:09.544Z</td>\n    </tr>\n    <tr>\n      <th>1</th>\n      <td>183811</td>\n      <td>PROTTVR</td>\n      <td>3095.0</td>\n      <td>1</td>\n      <td>877</td>\n      <td>165</td>\n      <td>2021-07-07T17:28:18.291Z</td>\n    </tr>\n    <tr>\n      <th>2</th>\n      <td>234850</td>\n      <td>lapoctopus90</td>\n      <td>3087.1</td>\n      <td>2</td>\n      <td>723</td>\n      <td>250</td>\n      <td>2021-07-06T18:19:59.324Z</td>\n    </tr>\n    <tr>\n      <th>3</th>\n      <td>20585</td>\n      <td>fmwallin</td>\n      <td>3018.0</td>\n      <td>3</td>\n      <td>1603</td>\n      <td>943</td>\n      <td>2021-07-08T20:14:53.095Z</td>\n    </tr>\n    <tr>\n      <th>4</th>\n      <td>289382</td>\n      <td>gselvas92</td>\n      <td>3002.0</td>\n      <td>4</td>\n      <td>986</td>\n      <td>364</td>\n      <td>2021-07-08T18:02:14.002Z</td>\n    </tr>\n    <tr>\n      <th>5</th>\n      <td>372961</td>\n      <td>sunking73</td>\n      <td>2995.5</td>\n      <td>5</td>\n      <td>599</td>\n      <td>251</td>\n      <td>2021-06-20T11:44:49.214Z</td>\n    </tr>\n    <tr>\n      <th>6</th>\n      <td>428341</td>\n      <td>NPiet</td>\n      <td>2995.0</td>\n      <td>6</td>\n      <td>979</td>\n      <td>193</td>\n      <td>2021-06-25T07:22:35.945Z</td>\n    </tr>\n    <tr>\n      <th>7</th>\n      <td>11002</td>\n      <td>twISTer1979</td>\n      <td>2990.6</td>\n      <td>7</td>\n      <td>2455</td>\n      <td>941</td>\n      <td>2021-07-08T18:27:03.773Z</td>\n    </tr>\n    <tr>\n      <th>8</th>\n      <td>4410</td>\n      <td>wurstfriedl</td>\n      <td>2989.0</td>\n      <td>8</td>\n      <td>2212</td>\n      <td>932</td>\n      <td>2021-07-08T16:24:15.480Z</td>\n    </tr>\n    <tr>\n      <th>9</th>\n      <td>3831</td>\n      <td>alexttbcn</td>\n      <td>2980.0</td>\n      <td>9</td>\n      <td>1303</td>\n      <td>618</td>\n      <td>2021-07-02T09:41:40.627Z</td>\n    </tr>\n  </tbody>\n</table>\n</div>",
      "text/plain": "       id          name     elo  rank  wins  losses               last_online\n0  385684         yedat  3135.2     0  1001     275  2021-07-08T21:55:09.544Z\n1  183811       PROTTVR  3095.0     1   877     165  2021-07-07T17:28:18.291Z\n2  234850  lapoctopus90  3087.1     2   723     250  2021-07-06T18:19:59.324Z\n3   20585      fmwallin  3018.0     3  1603     943  2021-07-08T20:14:53.095Z\n4  289382     gselvas92  3002.0     4   986     364  2021-07-08T18:02:14.002Z\n5  372961     sunking73  2995.5     5   599     251  2021-06-20T11:44:49.214Z\n6  428341         NPiet  2995.0     6   979     193  2021-06-25T07:22:35.945Z\n7   11002   twISTer1979  2990.6     7  2455     941  2021-07-08T18:27:03.773Z\n8    4410   wurstfriedl  2989.0     8  2212     932  2021-07-08T16:24:15.480Z\n9    3831     alexttbcn  2980.0     9  1303     618  2021-07-02T09:41:40.627Z"
     },
     "execution_count": 3,
     "metadata": {},
     "output_type": "execute_result"
    }
   ],
   "source": [
    "ett.ETT().get_leaderboard_dataframe()"
   ]
  },
  {
   "cell_type": "markdown",
   "metadata": {},
   "source": [
    "Players with an Elo rating greater than 2000 at any day of the preceding month have direct entry to the tournament. Players who had an Elo under 2000 at any point in the previous month, can qualify by entering a qualifying tournament. We can verify if a player have direct entry or can qualify by instantiating an object of the Class **Tournament** as follows:"
   ]
  },
  {
   "cell_type": "code",
   "execution_count": 5,
   "metadata": {},
   "outputs": [
    {
     "data": {
      "text/html": "<div>\n<style scoped>\n    .dataframe tbody tr th:only-of-type {\n        vertical-align: middle;\n    }\n\n    .dataframe tbody tr th {\n        vertical-align: top;\n    }\n\n    .dataframe thead th {\n        text-align: right;\n    }\n</style>\n<table border=\"1\" class=\"dataframe\">\n  <thead>\n    <tr style=\"text-align: right;\">\n      <th></th>\n      <th>mean</th>\n      <th>min</th>\n      <th>max</th>\n      <th>direct_entry</th>\n      <th>can_qualify</th>\n      <th>id</th>\n      <th>name</th>\n    </tr>\n  </thead>\n  <tbody>\n    <tr>\n      <th>0</th>\n      <td>1863.069231</td>\n      <td>1743.8</td>\n      <td>1974.8</td>\n      <td>0</td>\n      <td>1</td>\n      <td>357217</td>\n      <td>Cyrillus82</td>\n    </tr>\n    <tr>\n      <th>1</th>\n      <td>1984.258741</td>\n      <td>1923.5</td>\n      <td>2019.5</td>\n      <td>1</td>\n      <td>1</td>\n      <td>348353</td>\n      <td>highlanderNJ</td>\n    </tr>\n    <tr>\n      <th>2</th>\n      <td>1500.000000</td>\n      <td>1500.0</td>\n      <td>1500.0</td>\n      <td>0</td>\n      <td>1</td>\n      <td>12345</td>\n      <td>PastaAndPasta</td>\n    </tr>\n  </tbody>\n</table>\n</div>",
      "text/plain": "          mean     min     max  direct_entry  can_qualify      id  \\\n0  1863.069231  1743.8  1974.8             0            1  357217   \n1  1984.258741  1923.5  2019.5             1            1  348353   \n2  1500.000000  1500.0  1500.0             0            1   12345   \n\n            name  \n0     Cyrillus82  \n1   highlanderNJ  \n2  PastaAndPasta  "
     },
     "execution_count": 5,
     "metadata": {},
     "output_type": "execute_result"
    }
   ],
   "source": [
    "players = [ett.Player(id) for id in [357217, 348353, 12345]]\n",
    "ett.Tournament(players).qualify(elo_min=2000, start=\"2021-06-01\", end=\"2021-06-30\")"
   ]
  },
  {
   "cell_type": "markdown",
   "metadata": {},
   "source": [
    "We observe that the player ``highlanderNJ`` have direct entry to July's official tournament as his max Elo within June is over 2000. He also has the option to play in the qualifying tournament as his min Elo rating in June is under 2000. The players  ``Cyrillus82`` and ``PastaAndPasta`` can only enter the qualifying tournament as their max Elo in June did not surpass the 2000 threshold.\n",
    "\n",
    "An app is available at https://ett-monthly.herokuapp.com/ offering an easy to use UI constructed on top of this library, currently in use by the organizers of the official tournament when validating player entry. "
   ]
  }
 ],
 "metadata": {
  "kernelspec": {
   "display_name": "Python 3",
   "language": "python",
   "name": "python3"
  },
  "language_info": {
   "codemirror_mode": {
    "name": "ipython",
    "version": 3
   },
   "file_extension": ".py",
   "mimetype": "text/x-python",
   "name": "python",
   "nbconvert_exporter": "python",
   "pygments_lexer": "ipython3",
   "version": "3.8.5"
  }
 },
 "nbformat": 4,
 "nbformat_minor": 5
}